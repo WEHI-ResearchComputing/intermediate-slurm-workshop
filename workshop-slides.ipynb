{
 "cells": [
  {
   "cell_type": "markdown",
   "metadata": {
    "slideshow": {
     "slide_type": "slide"
    }
   },
   "source": [
    "# Intermediate Slurm on Milton\n",
    "### Delivered by WEHI Research Computing Platform\n",
    "\n",
    "<pre>Edward Yang    Michael Milton    Julie Iskander</pre><br />\n",
    "\n",
    "<img src=\"static/1200px-Slurm_logo.svg.png\" alt=\"Slurm\" width=\"100\"/><img src=\"static/milton.png\" alt=\"Milton Mascot\" width=\"100\"/><img src=\"static/WEHI_RGB_logo.png\" alt=\"WEHI logo\" width=\"200\"/>"
   ]
  },
  {
   "cell_type": "markdown",
   "metadata": {
    "slideshow": {
     "slide_type": "slide"
    }
   },
   "source": [
    "## [OPTIONAL SLIDE] Self Introductions!\n",
    "\n",
    "### Me\n",
    "* Civil Engineer by training\n",
    "* HPC by interest\n",
    "* Mostly code in Fortran, occasionally Python\n",
    "* I use HPC to simulate fluid and granular flows\n",
    "\n",
    "## How about you?"
   ]
  },
  {
   "cell_type": "markdown",
   "metadata": {
    "slideshow": {
     "slide_type": "slide"
    }
   },
   "source": [
    "## Background\n",
    "* We already ran an \"intro to Slurm\" workshop (recording on RCP website)\n",
    "* More \"advanced\" features of Slurm were highly requested\n",
    "* Both ITS and researchers would benefit\n",
    "    * ITS will have fewer issues to address\n",
    "    * researchers can accelerate their research <- High Priority for everyone!\n",
    "\n",
    "### Target Audience\n",
    "* You've submitted quite a few jobs via `sbatch`\n",
    "* You're familiar with resource requests. Like:\n",
    "    * using `--ntasks` and `--cpus-per-task`\n",
    "    * using `--mem` and/or `--memory-per-cpu`\n",
    "* You're wondering whether your jobs are utilizing resources efficiently\n",
    "* You're wondering how to make your life easier when using `sbatch`"
   ]
  },
  {
   "cell_type": "markdown",
   "metadata": {
    "slideshow": {
     "slide_type": "subslide"
    }
   },
   "source": [
    "## Background cont.\n",
    "\n",
    "My goal for the session is to teach you how to:\n",
    "* get the status of the cluster\n",
    "* get information about your jobs\n",
    "* make use of `sbatch` scripting features\n",
    "* Run emabarrasingly parallel tasks\n",
    "* **bonus topic** submitting jobs from R or submitting `python` or `R` scripts without a wrapper script."
   ]
  },
  {
   "cell_type": "markdown",
   "metadata": {
    "slideshow": {
     "slide_type": "slide"
    }
   },
   "source": [
    "## Agenda for Today\n",
    "\n",
    "12:00 - 12:30&emsp;<span style=\"color:blue\">Introduction & Housekeeping</span>\n",
    "\n",
    "12:30 - 13:00&emsp;Lunch\n",
    "\n",
    "13:00 - 13:30&emsp;Understanding your jobs and the job queue\n",
    "\n",
    "13:30 - 14:00&emsp;Profiling your jobs\n",
    "\n",
    "14:00 - 14:30&emsp;Slurm scripting features\n",
    "\n",
    "14:30 - 15:00&emsp;Embarrarsingly parallel examples\n",
    "\n",
    "15:00 - 15:30&emsp;R batchtools\n",
    "\n",
    "15:30 - 16:00&emsp;"
   ]
  },
  {
   "cell_type": "markdown",
   "metadata": {
    "slideshow": {
     "slide_type": "slide"
    }
   },
   "source": [
    "## Introduction and Housekeeping\n",
    "\n",
    "### Format\n",
    "Slides + live coding\n",
    "\n",
    "Live coding will be on Milton, so make sure you're connected to WEHI's VPN or staff network, or use RAP:<br />\n",
    "rap.wehi.edu.au\n",
    "\n",
    "Please follow along to reinforce learning!\n",
    "\n",
    "Questions:\n",
    "* Put your hand up whenever you have a question or have an issue running things\n",
    "* Questions in the chat are welcome and will be addressed by helpers\n",
    "\n",
    "Material is available here:\n",
    "/link\n",
    "\n",
    "Feel free to download the notebook and follow along."
   ]
  },
  {
   "cell_type": "markdown",
   "metadata": {
    "slideshow": {
     "slide_type": "subslide"
    }
   },
   "source": [
    "## Introduction and Housekeeping Cont.\n",
    "### Expected understanding of\n",
    "* <span style=\"font-size:1.2em;\">Concept of \"resources\"</span><br />\n",
    "`CPUs`<br />\n",
    "`RAM/memory`<br />\n",
    "`Nodes`<br /><br />\n",
    "* <span style=\"font-size:1.2em;\">Job submission commands</span><br />\n",
    "`srun    # executes a command/script/binary across tasks`<br />\n",
    "`salloc  # allocates resources to be used (interactively and/or via srun)`<br />\n",
    "`sbatch  # submits a script for later execution on requested resources`<br /><br />\n",
    "* <span style=\"font-size:1.2em;\">resource request options</span><br />\n",
    "`--ntasks=             # \"tasks\" recognised by srun`<br />\n",
    "`--nodes=              # no. of nodes`<br />\n",
    "`--ntasks-per-node=    # tasks per node`<br />\n",
    "`--cpus-per-task=      # cpus per task`<br />\n",
    "`--mem=                # memory required for entire job`<br />\n",
    "`--mem-per-cpu=        # memory required for each CPU`<br />\n",
    "`--gres=               # \"general resource\" (i.e. GPUs)`<br />\n",
    "`--time=               # requested wall time`<br />"
   ]
  },
  {
   "cell_type": "markdown",
   "metadata": {
    "slideshow": {
     "slide_type": "slide"
    }
   },
   "source": [
    "# LUNCH"
   ]
  },
  {
   "cell_type": "markdown",
   "metadata": {
    "slideshow": {
     "slide_type": "slide"
    }
   },
   "source": [
    "## Understanding Your Jobs and the Job Queue\n",
    "\n",
    "_knowledge is power_\n",
    "\n",
    "### Building on the basics: `squeue`\n",
    "\n",
    "`squeue` shows everyone's job in the queue (passing `-u <username>`) shows only `<username>`'s jobs.\n",
    "\n",
    "```\n",
    "$ squeue\n",
    "             JOBID PARTITION     NAME     USER ST       TIME  NODES NODELIST(REASON)\n",
    "           8501639 gpuq_inte sys/dash birkinsh  R      42:18      1 gpu-a10-n01\n",
    "           8501778 interacti sys/dash whitfiel  R       1:28      1 sml-n01\n",
    "           8498244 interacti       MM   yuchen  R   20:02:01      1 med-n02\n",
    "           8498615 interacti sys/dash baldoni.  R   17:53:25      1 sml-n01\n",
    "           8501737   regular bionix-m   bedo.j  R      19:18      1 sml-n06\n",
    "           8501738   regular bionix-m   bedo.j  R      19:18      1 sml-n19\n",
    "           8501739   regular bionix-m   bedo.j  R      19:18      1 sml-n14\n",
    "           8501755   regular        R baldoni.  R      10:34      1 med-n03\n",
    "           ...\n",
    "```\n",
    "\n",
    "Getting a bit more: `squeue --long` makes things more legible adds the \"time_limit\" column.\n",
    "```\n",
    "$ squeue --long\n",
    "Tue Oct 18 09:35:35 2022\n",
    "             JOBID PARTITION     NAME     USER    STATE       TIME TIME_LIMI  NODES NODELIST(REASON)\n",
    "           8501639 gpuq_inte sys/dash birkinsh  RUNNING      48:35   8:00:00      1 gpu-a10-n01\n",
    "           8501788 interacti sys/dash  kershaw  RUNNING       2:08   5:00:00      1 med-n03\n",
    "           8501778 interacti sys/dash whitfiel  RUNNING       7:45   5:00:00      1 sml-n01\n",
    "           8498244 interacti       MM   yuchen  RUNNING   20:08:18 1-00:00:00      1 med-n02\n",
    "           8498615 interacti sys/dash baldoni.  RUNNING   17:59:42 1-00:00:00      1 sml-n01\n",
    "           8255255      long       MQ   dite.t  PENDING       0:00 12-12:00:00      1 (QOSMaxJobsPerUserLimit)\n",
    "           8255253      long       MQ   dite.t  RUNNING 9-09:13:41 12-12:00:00      1 sml-n21\n",
    "...\n",
    "```"
   ]
  },
  {
   "cell_type": "code",
   "execution_count": 8,
   "metadata": {},
   "outputs": [
    {
     "name": "stdout",
     "output_type": "stream",
     "text": [
      "bash: squeue: command not found\n"
     ]
    },
    {
     "ename": "",
     "evalue": "127",
     "output_type": "error",
     "traceback": []
    }
   ],
   "source": [
    "squeue"
   ]
  },
  {
   "cell_type": "markdown",
   "metadata": {
    "slideshow": {
     "slide_type": "subslide"
    }
   },
   "source": [
    "But what if we want _even more_ information?\n",
    "\n",
    "We have to make use of the formatting options!\n",
    "\n",
    "```\n",
    "$ squeue --Format \\<column1\\>,\\<column2\\>,...\n",
    "```\n",
    "\n",
    "OR use environment variables\n",
    "```\n",
    "# Resource related\n",
    "NumCPUs\n",
    "NumNodes\n",
    "minmemory\n",
    "tres-alloc\n",
    "\n",
    "# time related\n",
    "starttime\n",
    "submittime\n",
    "pendingtime\n",
    "timelimit\n",
    "timeleft\n",
    "timeused\n",
    "\n",
    "# Job Metadata\n",
    "JobId\n",
    "name\n",
    "partition\n",
    "priority\n",
    "reasonlist\n",
    "workdir\n",
    "state\n",
    "```"
   ]
  },
  {
   "cell_type": "code",
   "execution_count": 2,
   "metadata": {
    "slideshow": {
     "slide_type": "fragment"
    }
   },
   "outputs": [
    {
     "ename": "SyntaxError",
     "evalue": "cannot assign to expression here. Maybe you meant '==' instead of '='? (3474580224.py, line 1)",
     "output_type": "error",
     "traceback": [
      "\u001b[0;36m  Cell \u001b[0;32mIn [2], line 1\u001b[0;36m\u001b[0m\n\u001b[0;31m    squeue --Format=jobid,name,partition,priority,reasonlist,state,tres-alloc:60,submittime:25,starttime:25,timelimit,timeleft\u001b[0m\n\u001b[0m    ^\u001b[0m\n\u001b[0;31mSyntaxError\u001b[0m\u001b[0;31m:\u001b[0m cannot assign to expression here. Maybe you meant '==' instead of '='?\n"
     ]
    }
   ],
   "source": [
    "squeue --Format=jobid,name,partition,priority,reasonlist,state,tres-alloc:60,submittime:25,starttime:25,timelimit,timeleft"
   ]
  },
  {
   "cell_type": "code",
   "execution_count": 3,
   "metadata": {
    "slideshow": {
     "slide_type": "fragment"
    }
   },
   "outputs": [
    {
     "name": "stdout",
     "output_type": "stream",
     "text": [
      "bash: sacct: command not found\n"
     ]
    },
    {
     "ename": "",
     "evalue": "127",
     "output_type": "error",
     "traceback": []
    }
   ],
   "source": [
    "sacct -S -E -o jobid,jobname,alloctres,elapsed,end,start,exitcode,ncpus,nodelist,nnodes,submit,"
   ]
  },
  {
   "cell_type": "markdown",
   "metadata": {
    "slideshow": {
     "slide_type": "subslide"
    }
   },
   "source": [
    "`sinfo` shows the status of the cluster\n",
    "```\n",
    "$ sinfo\n",
    "PARTITION        AVAIL  TIMELIMIT  NODES  STATE NODELIST\n",
    "interactive         up 1-00:00:00      5    mix med-n[02-03],sml-n[01-03]\n",
    "interactive         up 1-00:00:00      1   idle med-n01\n",
    "regular*            up 2-00:00:00     30    mix med-n[02-03,07,09,11-14,17],sml-n[02-05,07-20,22-24]\n",
    "regular*            up 2-00:00:00      4  alloc med-n[15-16],sml-n[06,21]\n",
    "regular*            up 2-00:00:00     21   idle lrg-n[02-04],med-n[04-06,08,10,18-30]\n",
    "long                up 14-00:00:0     30    mix med-n[02-03,07,09,11-14,17],sml-n[02-05,07-20,22-24]\n",
    "long                up 14-00:00:0      4  alloc med-n[15-16],sml-n[06,21]\n",
    "long                up 14-00:00:0     18   idle med-n[04-06,08,10,18-30]\n",
    "bigmem              up 2-00:00:00      2    mix med-n[02-03]\n",
    "bigmem              up 2-00:00:00      3   idle lrg-n[01-02],med-n04\n",
    "gpuq                up 2-00:00:00     12   idle gpu-a30-n[01-07],gpu-p100-n[01-05]\n",
    "gpuq_interactive    up   12:00:00      1    mix gpu-a10-n01\n",
    "gpuq_large          up 2-00:00:00      3   idle gpu-a100-n[01-03]\n",
    "```\n",
    "\n",
    "```\n",
    "sview\n",
    "```"
   ]
  },
  {
   "cell_type": "code",
   "execution_count": 4,
   "metadata": {
    "slideshow": {
     "slide_type": "fragment"
    }
   },
   "outputs": [
    {
     "name": "stdout",
     "output_type": "stream",
     "text": [
      "bash: sinfo: command not found\n",
      "bash: syntax error near unexpected token `newline'\n"
     ]
    },
    {
     "ename": "",
     "evalue": "2",
     "output_type": "error",
     "traceback": []
    }
   ],
   "source": [
    "sinfo -NO nodehost,partition,statecompact,available,cpusstate,allocmem,memory,gres,gresused\n",
    "scontrol show job <job id>"
   ]
  },
  {
   "cell_type": "markdown",
   "metadata": {
    "slideshow": {
     "slide_type": "slide"
    }
   },
   "source": [
    "## Basic Job Profiling\n",
    "\n",
    "ssh node\n",
    "\n",
    "nvidia-smi\n",
    "\n",
    "htop (and useful features)\n",
    "\n",
    "seff\n",
    "\n",
    "dcgmstats\n"
   ]
  },
  {
   "cell_type": "markdown",
   "metadata": {
    "slideshow": {
     "slide_type": "slide"
    }
   },
   "source": [
    "## Sbatch Scripting Features\n",
    "\n",
    "We're going to start with a simple R script submitted by wrapper sbatch script:"
   ]
  },
  {
   "cell_type": "markdown",
   "metadata": {
    "slideshow": {
     "slide_type": "fragment"
    }
   },
   "source": [
    "```r\n",
    "## matmul.rscript\n",
    "\n",
    "print(\"starting the matmul R script!\")\n",
    "nrows = 1e3\n",
    "print(paste0(\"elem: \", nrows, \"*\", nrows, \" = \", nrows*nrows))\n",
    "\n",
    "# generating matrices\n",
    "M <- matrix(rnorm(nrows*nrows),nrow=nrows)\n",
    "N <- matrix(rnorm(nrows*nrows),nrow=nrows)\n",
    "\n",
    "# start matmul\n",
    "start.time <- Sys.time()\n",
    "invisible(M %*% N)\n",
    "end.time <- Sys.time()\n",
    "\n",
    "# Getting final time and writing to stdout\n",
    "elapsed.time <- difftime(time1=end.time, time2=start.time, units=\"secs\")\n",
    "print(elapsed.time)\n",
    "```"
   ]
  },
  {
   "cell_type": "code",
   "execution_count": 5,
   "metadata": {
    "slideshow": {
     "slide_type": "fragment"
    }
   },
   "outputs": [
    {
     "name": "stdout",
     "output_type": "stream",
     "text": [
      "bash: module: command not found\n",
      "Fatal error: cannot open file 'matmul.rscript': No such file or directory\n"
     ]
    },
    {
     "ename": "",
     "evalue": "2",
     "output_type": "error",
     "traceback": []
    }
   ],
   "source": [
    "#!/bin/bash\n",
    "# Example sbatch script running Rscript\n",
    "# Does a matmul\n",
    "# rev0\n",
    "#SBATCH --mem=8G\n",
    "#SBATCH --cpus-per-task=2\n",
    "#SBATCH --time=1-\n",
    "#SBATCH --nodes=1\n",
    "#SBATCH --ntasks=1\n",
    "\n",
    "# loading module for R\n",
    "module load R/openBLAS/4.2.1\n",
    "\n",
    "Rscript matmul.rscript"
   ]
  },
  {
   "cell_type": "markdown",
   "metadata": {
    "slideshow": {
     "slide_type": "subslide"
    }
   },
   "source": [
    "## Sbatch scripting features cont.\n",
    "\n",
    "Sbatch options extend beyond just specifying resources. There are ways you can utulise `sbatch` features to make your life easier or aid in automation:\n",
    "* redirecting where your output and error messages go\n",
    "* changing directory\n",
    "* notifying you of when jobs have started, ended\n",
    "* Submitting Python and R scripts\n",
    "* Making use of Slurm's environment variables"
   ]
  },
  {
   "cell_type": "markdown",
   "metadata": {
    "slideshow": {
     "slide_type": "subslide"
    }
   },
   "source": [
    "## Sbatch scripting features cont.\n",
    "\n",
    "### a short aside on `stdout` and `stderr`\n",
    "Linux uses has two main \"channels\" to send output messages to. One is \"stdout\" (standard out), and the other is \"stderr\" (standard error).\n",
    "\n",
    "If you have ever used the `|` `>` or `>>` shell scripting features, then you've _redirected_ `stdout` somewhere else e.g., to another command, a file, or the void (`/dev/null`).\n",
    "\n",
    "```bash\n",
    "$ ls dir-that-doesnt-exist\n",
    "ls: cannot access dir-that-doesnt-exist: No such file or directory # this is a stderr output`\n",
    "```\n",
    "\n",
    "```bash\n",
    "$ ls ~\n",
    "bin cache Desktop Downloads ... # this is a stdout output!\n",
    "```\n",
    "\n",
    "### redirecting output and stderr\n",
    "Sbatch will automatically redirect `stout` and `stdir` to a single file called `slurm-jobid.out`. But this may not be useful. Maybe you want to seperate any \"output\" from \"errors\". This can be done with `--output` and `--error`"
   ]
  },
  {
   "cell_type": "code",
   "execution_count": 6,
   "metadata": {
    "slideshow": {
     "slide_type": "fragment"
    }
   },
   "outputs": [
    {
     "name": "stdout",
     "output_type": "stream",
     "text": [
      "bash: module: command not found\n",
      "Fatal error: cannot open file 'matmul.rscript': No such file or directory\n"
     ]
    },
    {
     "ename": "",
     "evalue": "2",
     "output_type": "error",
     "traceback": []
    }
   ],
   "source": [
    "#!/bin/bash\n",
    "# Example sbatch script running Rscript\n",
    "# Does a matmul\n",
    "# rev1-stderrstdout\n",
    "#SBATCH --mem=8G\n",
    "#SBATCH --cpus-per-task=2\n",
    "#SBATCH --time=1-\n",
    "#SBATCH --nodes=1\n",
    "#SBATCH --ntasks=1\n",
    "#SBATCH --output=results/Rmatmul-%j.out # the %j is interpreted as the job id!\n",
    "#SBATCH --error=logs-debug/Rmatmul-%j.err\n",
    "\n",
    "# loading module for R\n",
    "module load R/openBLAS/4.2.1\n",
    "\n",
    "Rscript matmul.rscript"
   ]
  },
  {
   "cell_type": "markdown",
   "metadata": {
    "slideshow": {
     "slide_type": "subslide"
    }
   },
   "source": [
    "### changing directory\n",
    "The `sbatch` option `--chdir` can make life a bit easier for many reasons:\n",
    "* your script may be \"far\" from your data e.g a seperate scripts folder\n",
    "* you may be processing data in different places\n",
    "\n",
    "A typical approach would be to either modify the `--output` and `--error` locations and use `cd`.\n",
    "\n",
    "`--chdir` changes the working directory _which includes where stderr and stdout goes_\n",
    "\n",
    "This can be more concise and avoids having to change multiple paths."
   ]
  },
  {
   "cell_type": "code",
   "execution_count": 7,
   "metadata": {
    "slideshow": {
     "slide_type": "fragment"
    }
   },
   "outputs": [
    {
     "name": "stdout",
     "output_type": "stream",
     "text": [
      "bash: module: command not found\n",
      "Fatal error: cannot open file 'matmul.rscript': No such file or directory\n"
     ]
    },
    {
     "ename": "",
     "evalue": "2",
     "output_type": "error",
     "traceback": []
    }
   ],
   "source": [
    "#!/bin/bash\n",
    "# Example sbatch script running Rscript\n",
    "# Does a matmul\n",
    "# rev2-chdir\n",
    "#SBATCH --mem=8G\n",
    "#SBATCH --cpus-per-task=2\n",
    "#SBATCH --time=1-\n",
    "#SBATCH --nodes=1\n",
    "#SBATCH --ntasks=1\n",
    "#SBATCH --output=Rmatmul-%j.out\n",
    "#SBATCH --error=Rmatmul-%j.err\n",
    "#SBATCH --chdir=/vast/scratch/yang.e/slurm-demo/test1\n",
    "\n",
    "# loading module for R\n",
    "module load R/openBLAS/4.2.1\n",
    "\n",
    "Rscript matmul.rscript"
   ]
  }
 ],
 "metadata": {
  "celltoolbar": "Slideshow",
  "kernelspec": {
   "display_name": "Bash",
   "language": "bash",
   "name": "bash"
  },
  "language_info": {
   "codemirror_mode": "shell",
   "file_extension": ".sh",
   "mimetype": "text/x-sh",
   "name": "bash"
  }
 },
 "nbformat": 4,
 "nbformat_minor": 5
}
